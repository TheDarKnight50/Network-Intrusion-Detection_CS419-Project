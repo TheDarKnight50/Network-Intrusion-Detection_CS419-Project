{
 "cells": [
  {
   "cell_type": "markdown",
   "id": "a2bb2bfd-4c26-4dac-9223-ff75ae37cb05",
   "metadata": {},
   "source": [
    "### Imports"
   ]
  },
  {
   "cell_type": "code",
   "execution_count": 1,
   "id": "b06a6e0e-b227-47b5-af94-2d1aaa57cba4",
   "metadata": {},
   "outputs": [],
   "source": [
    "import pandas as pd"
   ]
  },
  {
   "cell_type": "markdown",
   "id": "041667ef-914e-471c-81a4-1007b7402ffc",
   "metadata": {},
   "source": [
    "### Loading Dataset"
   ]
  },
  {
   "cell_type": "code",
   "execution_count": 2,
   "id": "51dd68dd-cc55-4efb-b9a0-d6479c58411d",
   "metadata": {},
   "outputs": [
    {
     "name": "stdout",
     "output_type": "stream",
     "text": [
      "Index(['0', 'tcp', 'http', 'SF', '181', '5450', '0.1', '0.2', '0.3', '0.4',\n",
      "       '0.5', '1', '0.6', '0.7', '0.8', '0.9', '0.10', '0.12', '0.13', '0.14',\n",
      "       '0.15', '0.16', '8', '8.1', '0.00', '0.00.1', '0.00.2', '0.00.3',\n",
      "       '1.00', '0.00.4', '0.00.5', '9', '9.1', '1.00.1', '0.00.6', '0.11',\n",
      "       '0.00.7', '0.00.8', '0.00.9', '0.00.10', '0.00.11', 'normal.'],\n",
      "      dtype='object')\n"
     ]
    }
   ],
   "source": [
    "file_path = \"Datasets/kddcup.data_10_percent.gz\"\n",
    "file = pd.read_csv(file_path)\n",
    "print(file.columns)  # Print all column names to identfy the label column"
   ]
  },
  {
   "cell_type": "code",
   "execution_count": 3,
   "id": "54820db6-af43-428b-b393-f090f2c3bc23",
   "metadata": {},
   "outputs": [
    {
     "name": "stdout",
     "output_type": "stream",
     "text": [
      "smurf.              280790\n",
      "neptune.            107201\n",
      "normal.              97277\n",
      "back.                 2203\n",
      "satan.                1589\n",
      "ipsweep.              1247\n",
      "portsweep.            1040\n",
      "warezclient.          1020\n",
      "teardrop.              979\n",
      "pod.                   264\n",
      "nmap.                  231\n",
      "guess_passwd.           53\n",
      "buffer_overflow.        30\n",
      "land.                   21\n",
      "warezmaster.            20\n",
      "imap.                   12\n",
      "rootkit.                10\n",
      "loadmodule.              9\n",
      "ftp_write.               8\n",
      "multihop.                7\n",
      "phf.                     4\n",
      "perl.                    3\n",
      "spy.                     2\n",
      "Name: normal., dtype: int64\n"
     ]
    }
   ],
   "source": [
    "# Checking the frequencis of occurences of each of the classes\n",
    "print(file['normal.'].value_counts())"
   ]
  },
  {
   "cell_type": "markdown",
   "id": "c2fce335-1ee8-478f-9799-59d7769a2b98",
   "metadata": {},
   "source": [
    "#### Changing dataset for binary SVM "
   ]
  },
  {
   "cell_type": "code",
   "execution_count": 8,
   "id": "dfff2a9c-cb03-45f1-a50c-de399e135f0b",
   "metadata": {},
   "outputs": [
    {
     "name": "stdout",
     "output_type": "stream",
     "text": [
      "normal.\n",
      "-1         387991\n",
      " 1          97277\n",
      "dtype: int64\n"
     ]
    }
   ],
   "source": [
    "# Create a mapping for the labels. Note : Smurf and Neptune are types of DOS indicating spam, whereas normal indicates normal (not spam)!\n",
    "label_mapping = {\n",
    "    'smurf.': -1,\n",
    "    'neptune.': -1,\n",
    "    'normal.': 1\n",
    "}\n",
    "\n",
    "# Making a copy to avoid SettingWithCopyWarning\n",
    "filtered_file = file[file['normal.'].isin(label_mapping.keys())].copy()  \n",
    "\n",
    "# Map the labels to -1 for smurf and neptune, and 1 for normal\n",
    "filtered_file.loc[:, 'normal.'] = filtered_file['normal.'].map(label_mapping)\n",
    "\n",
    "# Now, the 'normal.' column will contain -1 for smurf and neptune, and 1 for normal\n",
    "print(filtered_file[['normal.']].value_counts())  # Display the updated labels"
   ]
  },
  {
   "cell_type": "markdown",
   "id": "bae9d420-8c0c-43c2-b627-091c39b68a9b",
   "metadata": {},
   "source": [
    "### Training Binary SVM (Linear Kernel) : "
   ]
  },
  {
   "cell_type": "code",
   "execution_count": 6,
   "id": "2e6d4e50-9512-4c26-ab67-70df1f515730",
   "metadata": {},
   "outputs": [],
   "source": [
    "from sklearn.model_selection import train_test_split\n",
    "from sklearn.svm import SVC\n",
    "from sklearn.metrics import classification_report, accuracy_score"
   ]
  },
  {
   "cell_type": "code",
   "execution_count": 7,
   "id": "078a4f91-c10a-4519-9332-6a9aa60f6939",
   "metadata": {},
   "outputs": [
    {
     "name": "stdout",
     "output_type": "stream",
     "text": [
      "Accuracy: 0.9998866610340635\n",
      "\n",
      "Classification Report:\n",
      "               precision    recall  f1-score   support\n",
      "\n",
      "          -1       1.00      1.00      1.00     77599\n",
      "           1       1.00      1.00      1.00     19455\n",
      "\n",
      "    accuracy                           1.00     97054\n",
      "   macro avg       1.00      1.00      1.00     97054\n",
      "weighted avg       1.00      1.00      1.00     97054\n",
      "\n"
     ]
    }
   ],
   "source": [
    "# Split the data into features (X) and labels (y)\n",
    "X = filtered_file.drop(columns=['normal.'])  \n",
    "y = filtered_file['normal.']\n",
    "\n",
    "# Ensure that features are numeric for SVM\n",
    "X = pd.get_dummies(X)\n",
    "\n",
    "# Split the data into training and testing sets\n",
    "X_train, X_test, y_train, y_test = train_test_split(X, y, test_size=0.2, random_state=42, stratify=y)\n",
    "\n",
    "# Initialize and train the SVM\n",
    "svm_model = SVC(kernel='linear', random_state=42)\n",
    "svm_model.fit(X_train, y_train)\n",
    "\n",
    "# Make predictions\n",
    "y_pred = svm_model.predict(X_test)\n",
    "\n",
    "# Evaluate the model\n",
    "print(\"Accuracy:\", accuracy_score(y_test, y_pred))\n",
    "print(\"\\nClassification Report:\\n\", classification_report(y_test, y_pred))"
   ]
  },
  {
   "cell_type": "markdown",
   "id": "a07c6a14-dba5-4227-9d14-c2eb9d5e9ceb",
   "metadata": {},
   "source": [
    "### Training on Multi Class SVM (Linear and RBF Kernel) : "
   ]
  },
  {
   "cell_type": "code",
   "execution_count": 9,
   "id": "2c5f5b8d-7c3f-4e9c-bf86-aa8e39dee6c6",
   "metadata": {},
   "outputs": [],
   "source": [
    "from sklearn.preprocessing import LabelEncoder, StandardScaler\n",
    "from sklearn.decomposition import PCA"
   ]
  },
  {
   "cell_type": "code",
   "execution_count": 18,
   "id": "422f9b0b-930a-4afd-a11f-c27765895045",
   "metadata": {},
   "outputs": [],
   "source": [
    "# Assign feature and target columns\n",
    "X = file.iloc[:, :-1]  \n",
    "y = file.iloc[:, -1]\n",
    "\n",
    "# Identify non-numeric columns\n",
    "non_numeric_cols = X.select_dtypes(include=['object']).columns\n",
    "\n",
    "# Encoding the non-numeric columns\n",
    "label_encoders = {}\n",
    "for col in non_numeric_cols:\n",
    "    le = LabelEncoder()\n",
    "    X[col] = le.fit_transform(X[col])\n",
    "    label_encoders[col] = le  # Save encoders for future use\n",
    "\n",
    "# Encoding the target column\n",
    "label_encoder_y = LabelEncoder()\n",
    "y = label_encoder_y.fit_transform(y)\n",
    "\n",
    "# Scaling features\n",
    "scaler = StandardScaler()\n",
    "X_scaled = scaler.fit_transform(X)\n",
    "\n",
    "# Spliting into training and testing sets\n",
    "X_train, X_test, y_train, y_test = train_test_split(X_scaled, y, test_size=0.2, random_state=42, stratify=y)\n",
    "\n",
    "# Training the Linear SVM model\n",
    "svm_model_linear = SVC(kernel='linear', random_state=42, C=1, gamma='scale')\n",
    "svm_model_linear.fit(X_train, y_train)\n",
    "y_pred_linear = svm_model_linear.predict(X_test)\n",
    "\n",
    "# Training the RBF Kernal SVM model\n",
    "svm_model_rbf = SVC(kernel='rbf', random_state=42, C=1, gamma='scale')\n",
    "svm_model_rbf.fit(X_train, y_train)\n",
    "y_pred_rbf = svm_model_rbf.predict(X_test)"
   ]
  },
  {
   "cell_type": "code",
   "execution_count": 19,
   "id": "5affdb6b-cd15-4eb5-bbc5-8d7718e4f97c",
   "metadata": {},
   "outputs": [
    {
     "name": "stdout",
     "output_type": "stream",
     "text": [
      "Accuracy: 0.9991903161815311\n",
      "\n",
      "Classification Report for Linear Kernel :\n",
      "\n",
      "               precision    recall  f1-score   support\n",
      "\n",
      "           0       0.99      0.99      0.99       441\n",
      "           1       0.83      0.83      0.83         6\n",
      "           2       1.00      0.50      0.67         2\n",
      "           3       1.00      0.91      0.95        11\n",
      "           4       0.50      0.50      0.50         2\n",
      "           5       0.99      0.97      0.98       249\n",
      "           6       1.00      1.00      1.00         4\n",
      "           7       0.00      0.00      0.00         2\n",
      "           8       0.00      0.00      0.00         1\n",
      "           9       1.00      1.00      1.00     21440\n",
      "          10       0.88      0.91      0.89        46\n",
      "          11       1.00      1.00      1.00     19455\n",
      "          12       1.00      1.00      1.00         1\n",
      "          13       0.50      1.00      0.67         1\n",
      "          14       1.00      1.00      1.00        53\n",
      "          15       1.00      1.00      1.00       208\n",
      "          16       0.00      0.00      0.00         2\n",
      "          17       0.99      0.98      0.99       318\n",
      "          18       1.00      1.00      1.00     56158\n",
      "          20       1.00      1.00      1.00       196\n",
      "          21       0.92      0.96      0.94       204\n",
      "          22       1.00      0.75      0.86         4\n",
      "\n",
      "    accuracy                           1.00     98804\n",
      "   macro avg       0.80      0.79      0.78     98804\n",
      "weighted avg       1.00      1.00      1.00     98804\n",
      "\n",
      "Accuracy: 0.9992206793247237\n",
      "\n",
      "Classification Report for RBF Kernel :\n",
      "\n",
      "               precision    recall  f1-score   support\n",
      "\n",
      "           0       1.00      1.00      1.00       441\n",
      "           1       1.00      0.50      0.67         6\n",
      "           2       0.00      0.00      0.00         2\n",
      "           3       1.00      0.91      0.95        11\n",
      "           4       1.00      0.50      0.67         2\n",
      "           5       0.98      0.96      0.97       249\n",
      "           6       1.00      0.75      0.86         4\n",
      "           7       0.00      0.00      0.00         2\n",
      "           8       0.00      0.00      0.00         1\n",
      "           9       1.00      1.00      1.00     21440\n",
      "          10       0.95      0.91      0.93        46\n",
      "          11       1.00      1.00      1.00     19455\n",
      "          12       1.00      1.00      1.00         1\n",
      "          13       0.00      0.00      0.00         1\n",
      "          14       1.00      0.98      0.99        53\n",
      "          15       1.00      1.00      1.00       208\n",
      "          16       0.00      0.00      0.00         2\n",
      "          17       1.00      0.98      0.99       318\n",
      "          18       1.00      1.00      1.00     56158\n",
      "          20       1.00      1.00      1.00       196\n",
      "          21       0.93      0.97      0.95       204\n",
      "          22       1.00      0.75      0.86         4\n",
      "\n",
      "    accuracy                           1.00     98804\n",
      "   macro avg       0.77      0.69      0.72     98804\n",
      "weighted avg       1.00      1.00      1.00     98804\n",
      "\n"
     ]
    }
   ],
   "source": [
    "report_linear = classification_report(y_test, y_pred_linear, zero_division=0, output_dict=True)\n",
    "report_rbf = classification_report(y_test, y_pred_rbf, zero_division=0, output_dict=True)\n",
    "\n",
    "# Evaluate the model\n",
    "print(\"Accuracy:\", accuracy_score(y_test, y_pred_linear))\n",
    "report_linear = classification_report(y_test, y_pred_linear, zero_division = 0)\n",
    "print(\"\\nClassification Report for Linear Kernel :\\n\\n\", report_linear)\n",
    "\n",
    "print(\"Accuracy:\", accuracy_score(y_test, y_pred_rbf))\n",
    "report_rbf = classification_report(y_test, y_pred_rbf, zero_division = 0)\n",
    "print(\"\\nClassification Report for RBF Kernel :\\n\\n\", report_rbf)"
   ]
  },
  {
   "cell_type": "code",
   "execution_count": null,
   "id": "7f899741-0f0e-43e9-92a5-3cad1d8d00a9",
   "metadata": {},
   "outputs": [],
   "source": [
    "# List of kernels to test\n",
    "kernels = ['linear', 'poly', 'rbf', 'sigmoid']\n",
    "\n",
    "# Dictionary to store reports\n",
    "reports = {}\n",
    "\n",
    "# Loop through each kernel and train the model\n",
    "for kernel in kernels:\n",
    "    if kernel == 'poly':\n",
    "        model = SVC(kernel=kernel, degree=3, coef0=1)  # Polynomial kernel with degree 3 and coef0=1\n",
    "    elif kernel == 'rbf':\n",
    "        model = SVC(kernel=kernel, gamma='scale')  # RBF kernel with default gamma\n",
    "    elif kernel == 'sigmoid':\n",
    "        model = SVC(kernel=kernel, coef0=1)  # Sigmoid kernel with coef0=1\n",
    "    else:\n",
    "        model = SVC(kernel=kernel)  # Linear kernel\n",
    "    \n",
    "    # Train the model\n",
    "    model.fit(X_train, y_train)\n",
    "    \n",
    "    # Make predictions\n",
    "    y_pred = model.predict(X_test)\n",
    "    \n",
    "    # Generate and store classification report\n",
    "    report = classification_report(y_test, y_pred, zero_division=0)\n",
    "    reports[kernel] = report\n",
    "\n",
    "# Print classification reports for all kernels\n",
    "for kernel, report in reports.items():\n",
    "    print(f\"\\nClassification Report for {kernel.capitalize()} Kernel:\\n\")\n",
    "    print(report)"
   ]
  }
 ],
 "metadata": {
  "kernelspec": {
   "display_name": "Python 3 (ipykernel)",
   "language": "python",
   "name": "python3"
  },
  "language_info": {
   "codemirror_mode": {
    "name": "ipython",
    "version": 3
   },
   "file_extension": ".py",
   "mimetype": "text/x-python",
   "name": "python",
   "nbconvert_exporter": "python",
   "pygments_lexer": "ipython3",
   "version": "3.10.12"
  }
 },
 "nbformat": 4,
 "nbformat_minor": 5
}
